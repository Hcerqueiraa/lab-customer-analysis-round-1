{
 "cells": [
  {
   "cell_type": "code",
   "execution_count": 5,
   "id": "bc2a045f-7f32-41e9-bd58-dce097800469",
   "metadata": {},
   "outputs": [],
   "source": [
    "import pandas as pd\n",
    "import numpy as np"
   ]
  },
  {
   "cell_type": "code",
   "execution_count": 9,
   "id": "86e769e5-489a-40f1-93cb-78214a2d5650",
   "metadata": {},
   "outputs": [],
   "source": [
    "dta1=pd.read_csv('file1.csv')"
   ]
  },
  {
   "cell_type": "code",
   "execution_count": 10,
   "id": "a5d5a7cb-cc08-4b38-8c8c-33409eab5cb8",
   "metadata": {},
   "outputs": [],
   "source": [
    "dta2=pd.read_csv('file2.csv')"
   ]
  },
  {
   "cell_type": "code",
   "execution_count": 11,
   "id": "d860b14d-6eb3-4aee-a52f-4ea21581cceb",
   "metadata": {},
   "outputs": [],
   "source": [
    "dta3=pd.read_csv('file3.csv')"
   ]
  },
  {
   "cell_type": "code",
   "execution_count": 14,
   "id": "6e81d628-64f1-4d91-8e82-67b5e0594545",
   "metadata": {},
   "outputs": [
    {
     "data": {
      "text/plain": [
       "(4008, 11)"
      ]
     },
     "execution_count": 14,
     "metadata": {},
     "output_type": "execute_result"
    }
   ],
   "source": [
    "dta1.shape"
   ]
  },
  {
   "cell_type": "code",
   "execution_count": 15,
   "id": "c93293a2-f859-4ae5-8b26-b27e56346a82",
   "metadata": {},
   "outputs": [
    {
     "data": {
      "text/plain": [
       "(996, 11)"
      ]
     },
     "execution_count": 15,
     "metadata": {},
     "output_type": "execute_result"
    }
   ],
   "source": [
    "dta2.shape"
   ]
  },
  {
   "cell_type": "code",
   "execution_count": 16,
   "id": "ca3db518-303e-4a20-9879-5dbe8ff5d59a",
   "metadata": {},
   "outputs": [
    {
     "data": {
      "text/plain": [
       "(7070, 11)"
      ]
     },
     "execution_count": 16,
     "metadata": {},
     "output_type": "execute_result"
    }
   ],
   "source": [
    "dta3.shape"
   ]
  },
  {
   "cell_type": "code",
   "execution_count": 25,
   "id": "f21aa151-fdb3-43de-a704-04d658011af1",
   "metadata": {},
   "outputs": [],
   "source": [
    "dta1.columns = dta1.columns.str.lower()\n",
    "dta2.columns = dta2.columns.str.lower()\n",
    "dta3.columns = dta3.columns.str.lower()"
   ]
  },
  {
   "cell_type": "code",
   "execution_count": 26,
   "id": "775e0355-d89a-4d85-a080-081cef4348fc",
   "metadata": {},
   "outputs": [
    {
     "data": {
      "text/plain": [
       "Index(['customer', 'st', 'gender', 'education', 'customer lifetime value',\n",
       "       'income', 'monthly premium auto', 'number of open complaints',\n",
       "       'policy type', 'vehicle class', 'total claim amount'],\n",
       "      dtype='object')"
      ]
     },
     "execution_count": 26,
     "metadata": {},
     "output_type": "execute_result"
    }
   ],
   "source": [
    "dta1.columns"
   ]
  },
  {
   "cell_type": "code",
   "execution_count": 27,
   "id": "94d40635-67fc-4569-b895-15800a2ea3a5",
   "metadata": {},
   "outputs": [
    {
     "data": {
      "text/plain": [
       "Index(['customer', 'st', 'gender', 'education', 'customer lifetime value',\n",
       "       'income', 'monthly premium auto', 'number of open complaints',\n",
       "       'total claim amount', 'policy type', 'vehicle class'],\n",
       "      dtype='object')"
      ]
     },
     "execution_count": 27,
     "metadata": {},
     "output_type": "execute_result"
    }
   ],
   "source": [
    "dta2.columns"
   ]
  },
  {
   "cell_type": "code",
   "execution_count": 28,
   "id": "6b557c7f-af37-4500-9cbe-b00ed31f11d3",
   "metadata": {},
   "outputs": [
    {
     "data": {
      "text/plain": [
       "Index(['customer', 'state', 'customer lifetime value', 'education', 'gender',\n",
       "       'income', 'monthly premium auto', 'number of open complaints',\n",
       "       'policy type', 'total claim amount', 'vehicle class'],\n",
       "      dtype='object')"
      ]
     },
     "execution_count": 28,
     "metadata": {},
     "output_type": "execute_result"
    }
   ],
   "source": [
    "dta3.columns"
   ]
  },
  {
   "cell_type": "code",
   "execution_count": 33,
   "id": "26d20840-61e7-4bb0-966c-f61a403dfb36",
   "metadata": {},
   "outputs": [],
   "source": [
    "dta3 = dta3.rename(columns={\"state\" :  \"st\"})"
   ]
  },
  {
   "cell_type": "code",
   "execution_count": 34,
   "id": "78336bfb-7afb-48fc-894f-99faac57b158",
   "metadata": {},
   "outputs": [
    {
     "data": {
      "text/plain": [
       "Index(['customer', 'st', 'customer lifetime value', 'education', 'gender',\n",
       "       'income', 'monthly premium auto', 'number of open complaints',\n",
       "       'policy type', 'total claim amount', 'vehicle class'],\n",
       "      dtype='object')"
      ]
     },
     "execution_count": 34,
     "metadata": {},
     "output_type": "execute_result"
    }
   ],
   "source": [
    "dta3.columns"
   ]
  },
  {
   "cell_type": "code",
   "execution_count": 42,
   "id": "72b1e9ae-a28c-418b-9e3c-8c64b8b80f44",
   "metadata": {},
   "outputs": [],
   "source": [
    "dta1 = dta1[['customer', 'st', 'customer lifetime value', 'education', 'gender',\n",
    "       'income', 'monthly premium auto', 'number of open complaints',\n",
    "       'policy type', 'total claim amount', 'vehicle class']]"
   ]
  },
  {
   "cell_type": "code",
   "execution_count": 43,
   "id": "45f1683e-bbfd-44cc-8479-5ae2998fb1fb",
   "metadata": {},
   "outputs": [],
   "source": [
    "dta2 = dta2[['customer', 'st', 'customer lifetime value', 'education', 'gender',\n",
    "       'income', 'monthly premium auto', 'number of open complaints',\n",
    "       'policy type', 'total claim amount', 'vehicle class']]"
   ]
  },
  {
   "cell_type": "code",
   "execution_count": 47,
   "id": "6e5e5e51-aaca-48b8-b00b-f6d891343a82",
   "metadata": {},
   "outputs": [
    {
     "data": {
      "text/plain": [
       "array([ True,  True,  True,  True,  True,  True,  True,  True,  True,\n",
       "        True,  True])"
      ]
     },
     "execution_count": 47,
     "metadata": {},
     "output_type": "execute_result"
    }
   ],
   "source": [
    "dta1.columns == dta2.columns"
   ]
  },
  {
   "cell_type": "code",
   "execution_count": 48,
   "id": "58a5da49-52aa-43c0-bfb5-288238f771a9",
   "metadata": {},
   "outputs": [
    {
     "data": {
      "text/plain": [
       "array([ True,  True,  True,  True,  True,  True,  True,  True,  True,\n",
       "        True,  True])"
      ]
     },
     "execution_count": 48,
     "metadata": {},
     "output_type": "execute_result"
    }
   ],
   "source": [
    "dta2.columns == dta3.columns"
   ]
  },
  {
   "cell_type": "code",
   "execution_count": 49,
   "id": "cc790a68-c296-473c-a13e-041fff7f57cd",
   "metadata": {},
   "outputs": [],
   "source": [
    "lab3data = pd.concat([dta1,dta2,dta3])"
   ]
  },
  {
   "cell_type": "code",
   "execution_count": 50,
   "id": "bff2e8ce-b6fb-494e-891e-0cf8ddc8692b",
   "metadata": {},
   "outputs": [
    {
     "data": {
      "text/plain": [
       "(12074, 11)"
      ]
     },
     "execution_count": 50,
     "metadata": {},
     "output_type": "execute_result"
    }
   ],
   "source": [
    "lab3data.shape"
   ]
  },
  {
   "cell_type": "code",
   "execution_count": 51,
   "id": "53b06551-85a0-468a-a329-ad08dbe36d10",
   "metadata": {},
   "outputs": [
    {
     "data": {
      "text/html": [
       "<div>\n",
       "<style scoped>\n",
       "    .dataframe tbody tr th:only-of-type {\n",
       "        vertical-align: middle;\n",
       "    }\n",
       "\n",
       "    .dataframe tbody tr th {\n",
       "        vertical-align: top;\n",
       "    }\n",
       "\n",
       "    .dataframe thead th {\n",
       "        text-align: right;\n",
       "    }\n",
       "</style>\n",
       "<table border=\"1\" class=\"dataframe\">\n",
       "  <thead>\n",
       "    <tr style=\"text-align: right;\">\n",
       "      <th></th>\n",
       "      <th>customer</th>\n",
       "      <th>st</th>\n",
       "      <th>customer lifetime value</th>\n",
       "      <th>education</th>\n",
       "      <th>gender</th>\n",
       "      <th>income</th>\n",
       "      <th>monthly premium auto</th>\n",
       "      <th>number of open complaints</th>\n",
       "      <th>policy type</th>\n",
       "      <th>total claim amount</th>\n",
       "      <th>vehicle class</th>\n",
       "    </tr>\n",
       "  </thead>\n",
       "  <tbody>\n",
       "    <tr>\n",
       "      <th>0</th>\n",
       "      <td>RB50392</td>\n",
       "      <td>Washington</td>\n",
       "      <td>NaN</td>\n",
       "      <td>Master</td>\n",
       "      <td>NaN</td>\n",
       "      <td>0.0</td>\n",
       "      <td>1000.0</td>\n",
       "      <td>1/0/00</td>\n",
       "      <td>Personal Auto</td>\n",
       "      <td>2.704934</td>\n",
       "      <td>Four-Door Car</td>\n",
       "    </tr>\n",
       "    <tr>\n",
       "      <th>1</th>\n",
       "      <td>QZ44356</td>\n",
       "      <td>Arizona</td>\n",
       "      <td>697953.59%</td>\n",
       "      <td>Bachelor</td>\n",
       "      <td>F</td>\n",
       "      <td>0.0</td>\n",
       "      <td>94.0</td>\n",
       "      <td>1/0/00</td>\n",
       "      <td>Personal Auto</td>\n",
       "      <td>1131.464935</td>\n",
       "      <td>Four-Door Car</td>\n",
       "    </tr>\n",
       "    <tr>\n",
       "      <th>2</th>\n",
       "      <td>AI49188</td>\n",
       "      <td>Nevada</td>\n",
       "      <td>1288743.17%</td>\n",
       "      <td>Bachelor</td>\n",
       "      <td>F</td>\n",
       "      <td>48767.0</td>\n",
       "      <td>108.0</td>\n",
       "      <td>1/0/00</td>\n",
       "      <td>Personal Auto</td>\n",
       "      <td>566.472247</td>\n",
       "      <td>Two-Door Car</td>\n",
       "    </tr>\n",
       "    <tr>\n",
       "      <th>3</th>\n",
       "      <td>WW63253</td>\n",
       "      <td>California</td>\n",
       "      <td>764586.18%</td>\n",
       "      <td>Bachelor</td>\n",
       "      <td>M</td>\n",
       "      <td>0.0</td>\n",
       "      <td>106.0</td>\n",
       "      <td>1/0/00</td>\n",
       "      <td>Corporate Auto</td>\n",
       "      <td>529.881344</td>\n",
       "      <td>SUV</td>\n",
       "    </tr>\n",
       "    <tr>\n",
       "      <th>4</th>\n",
       "      <td>GA49547</td>\n",
       "      <td>Washington</td>\n",
       "      <td>536307.65%</td>\n",
       "      <td>High School or Below</td>\n",
       "      <td>M</td>\n",
       "      <td>36357.0</td>\n",
       "      <td>68.0</td>\n",
       "      <td>1/0/00</td>\n",
       "      <td>Personal Auto</td>\n",
       "      <td>17.269323</td>\n",
       "      <td>Four-Door Car</td>\n",
       "    </tr>\n",
       "  </tbody>\n",
       "</table>\n",
       "</div>"
      ],
      "text/plain": [
       "  customer          st customer lifetime value             education gender  \\\n",
       "0  RB50392  Washington                     NaN                Master    NaN   \n",
       "1  QZ44356     Arizona              697953.59%              Bachelor      F   \n",
       "2  AI49188      Nevada             1288743.17%              Bachelor      F   \n",
       "3  WW63253  California              764586.18%              Bachelor      M   \n",
       "4  GA49547  Washington              536307.65%  High School or Below      M   \n",
       "\n",
       "    income  monthly premium auto number of open complaints     policy type  \\\n",
       "0      0.0                1000.0                    1/0/00   Personal Auto   \n",
       "1      0.0                  94.0                    1/0/00   Personal Auto   \n",
       "2  48767.0                 108.0                    1/0/00   Personal Auto   \n",
       "3      0.0                 106.0                    1/0/00  Corporate Auto   \n",
       "4  36357.0                  68.0                    1/0/00   Personal Auto   \n",
       "\n",
       "   total claim amount  vehicle class  \n",
       "0            2.704934  Four-Door Car  \n",
       "1         1131.464935  Four-Door Car  \n",
       "2          566.472247   Two-Door Car  \n",
       "3          529.881344            SUV  \n",
       "4           17.269323  Four-Door Car  "
      ]
     },
     "execution_count": 51,
     "metadata": {},
     "output_type": "execute_result"
    }
   ],
   "source": [
    "lab3data.head()"
   ]
  },
  {
   "cell_type": "code",
   "execution_count": 52,
   "id": "b50aff2a-6f56-4da3-ab9c-26405744c9a8",
   "metadata": {},
   "outputs": [
    {
     "data": {
      "text/plain": [
       "customer                      object\n",
       "st                            object\n",
       "customer lifetime value       object\n",
       "education                     object\n",
       "gender                        object\n",
       "income                       float64\n",
       "monthly premium auto         float64\n",
       "number of open complaints     object\n",
       "policy type                   object\n",
       "total claim amount           float64\n",
       "vehicle class                 object\n",
       "dtype: object"
      ]
     },
     "execution_count": 52,
     "metadata": {},
     "output_type": "execute_result"
    }
   ],
   "source": [
    "lab3data.dtypes"
   ]
  },
  {
   "cell_type": "code",
   "execution_count": 57,
   "id": "245e15e9-3cb0-42ae-a20f-e60444a67a8a",
   "metadata": {},
   "outputs": [
    {
     "data": {
      "text/plain": [
       "Index(['income', 'monthly premium auto', 'total claim amount'], dtype='object')"
      ]
     },
     "execution_count": 57,
     "metadata": {},
     "output_type": "execute_result"
    }
   ],
   "source": [
    "n_cols = lab3data.select_dtypes(include=['int', 'float']).columns\n",
    "n_cols"
   ]
  },
  {
   "cell_type": "code",
   "execution_count": 59,
   "id": "8c8dd05d-25c3-4b33-8059-e54b080724f1",
   "metadata": {},
   "outputs": [
    {
     "data": {
      "text/plain": [
       "Index(['customer', 'st', 'customer lifetime value', 'education', 'gender',\n",
       "       'number of open complaints', 'policy type', 'vehicle class'],\n",
       "      dtype='object')"
      ]
     },
     "execution_count": 59,
     "metadata": {},
     "output_type": "execute_result"
    }
   ],
   "source": [
    "c_cols = lab3data.select_dtypes(include=['object']).columns\n",
    "c_cols"
   ]
  },
  {
   "cell_type": "code",
   "execution_count": 70,
   "id": "dcc68e16-dadd-4057-92f7-568758bc4c82",
   "metadata": {},
   "outputs": [],
   "source": [
    "lab3data.drop(['education', 'number of open complaints'], axis=1, inplace=True)"
   ]
  },
  {
   "cell_type": "code",
   "execution_count": 71,
   "id": "2a64439a-808a-4b46-b8a6-431ac5e59b42",
   "metadata": {},
   "outputs": [
    {
     "data": {
      "text/html": [
       "<div>\n",
       "<style scoped>\n",
       "    .dataframe tbody tr th:only-of-type {\n",
       "        vertical-align: middle;\n",
       "    }\n",
       "\n",
       "    .dataframe tbody tr th {\n",
       "        vertical-align: top;\n",
       "    }\n",
       "\n",
       "    .dataframe thead th {\n",
       "        text-align: right;\n",
       "    }\n",
       "</style>\n",
       "<table border=\"1\" class=\"dataframe\">\n",
       "  <thead>\n",
       "    <tr style=\"text-align: right;\">\n",
       "      <th></th>\n",
       "      <th>customer</th>\n",
       "      <th>st</th>\n",
       "      <th>customer lifetime value</th>\n",
       "      <th>gender</th>\n",
       "      <th>income</th>\n",
       "      <th>monthly premium auto</th>\n",
       "      <th>policy type</th>\n",
       "      <th>total claim amount</th>\n",
       "      <th>vehicle class</th>\n",
       "    </tr>\n",
       "  </thead>\n",
       "  <tbody>\n",
       "    <tr>\n",
       "      <th>0</th>\n",
       "      <td>RB50392</td>\n",
       "      <td>Washington</td>\n",
       "      <td>NaN</td>\n",
       "      <td>NaN</td>\n",
       "      <td>0.0</td>\n",
       "      <td>1000.0</td>\n",
       "      <td>Personal Auto</td>\n",
       "      <td>2.704934</td>\n",
       "      <td>Four-Door Car</td>\n",
       "    </tr>\n",
       "    <tr>\n",
       "      <th>1</th>\n",
       "      <td>QZ44356</td>\n",
       "      <td>Arizona</td>\n",
       "      <td>697953.59%</td>\n",
       "      <td>F</td>\n",
       "      <td>0.0</td>\n",
       "      <td>94.0</td>\n",
       "      <td>Personal Auto</td>\n",
       "      <td>1131.464935</td>\n",
       "      <td>Four-Door Car</td>\n",
       "    </tr>\n",
       "    <tr>\n",
       "      <th>2</th>\n",
       "      <td>AI49188</td>\n",
       "      <td>Nevada</td>\n",
       "      <td>1288743.17%</td>\n",
       "      <td>F</td>\n",
       "      <td>48767.0</td>\n",
       "      <td>108.0</td>\n",
       "      <td>Personal Auto</td>\n",
       "      <td>566.472247</td>\n",
       "      <td>Two-Door Car</td>\n",
       "    </tr>\n",
       "    <tr>\n",
       "      <th>3</th>\n",
       "      <td>WW63253</td>\n",
       "      <td>California</td>\n",
       "      <td>764586.18%</td>\n",
       "      <td>M</td>\n",
       "      <td>0.0</td>\n",
       "      <td>106.0</td>\n",
       "      <td>Corporate Auto</td>\n",
       "      <td>529.881344</td>\n",
       "      <td>SUV</td>\n",
       "    </tr>\n",
       "    <tr>\n",
       "      <th>4</th>\n",
       "      <td>GA49547</td>\n",
       "      <td>Washington</td>\n",
       "      <td>536307.65%</td>\n",
       "      <td>M</td>\n",
       "      <td>36357.0</td>\n",
       "      <td>68.0</td>\n",
       "      <td>Personal Auto</td>\n",
       "      <td>17.269323</td>\n",
       "      <td>Four-Door Car</td>\n",
       "    </tr>\n",
       "    <tr>\n",
       "      <th>...</th>\n",
       "      <td>...</td>\n",
       "      <td>...</td>\n",
       "      <td>...</td>\n",
       "      <td>...</td>\n",
       "      <td>...</td>\n",
       "      <td>...</td>\n",
       "      <td>...</td>\n",
       "      <td>...</td>\n",
       "      <td>...</td>\n",
       "    </tr>\n",
       "    <tr>\n",
       "      <th>7065</th>\n",
       "      <td>LA72316</td>\n",
       "      <td>California</td>\n",
       "      <td>23405.98798</td>\n",
       "      <td>M</td>\n",
       "      <td>71941.0</td>\n",
       "      <td>73.0</td>\n",
       "      <td>Personal Auto</td>\n",
       "      <td>198.234764</td>\n",
       "      <td>Four-Door Car</td>\n",
       "    </tr>\n",
       "    <tr>\n",
       "      <th>7066</th>\n",
       "      <td>PK87824</td>\n",
       "      <td>California</td>\n",
       "      <td>3096.511217</td>\n",
       "      <td>F</td>\n",
       "      <td>21604.0</td>\n",
       "      <td>79.0</td>\n",
       "      <td>Corporate Auto</td>\n",
       "      <td>379.200000</td>\n",
       "      <td>Four-Door Car</td>\n",
       "    </tr>\n",
       "    <tr>\n",
       "      <th>7067</th>\n",
       "      <td>TD14365</td>\n",
       "      <td>California</td>\n",
       "      <td>8163.890428</td>\n",
       "      <td>M</td>\n",
       "      <td>0.0</td>\n",
       "      <td>85.0</td>\n",
       "      <td>Corporate Auto</td>\n",
       "      <td>790.784983</td>\n",
       "      <td>Four-Door Car</td>\n",
       "    </tr>\n",
       "    <tr>\n",
       "      <th>7068</th>\n",
       "      <td>UP19263</td>\n",
       "      <td>California</td>\n",
       "      <td>7524.442436</td>\n",
       "      <td>M</td>\n",
       "      <td>21941.0</td>\n",
       "      <td>96.0</td>\n",
       "      <td>Personal Auto</td>\n",
       "      <td>691.200000</td>\n",
       "      <td>Four-Door Car</td>\n",
       "    </tr>\n",
       "    <tr>\n",
       "      <th>7069</th>\n",
       "      <td>Y167826</td>\n",
       "      <td>California</td>\n",
       "      <td>2611.836866</td>\n",
       "      <td>M</td>\n",
       "      <td>0.0</td>\n",
       "      <td>77.0</td>\n",
       "      <td>Corporate Auto</td>\n",
       "      <td>369.600000</td>\n",
       "      <td>Two-Door Car</td>\n",
       "    </tr>\n",
       "  </tbody>\n",
       "</table>\n",
       "<p>12074 rows × 9 columns</p>\n",
       "</div>"
      ],
      "text/plain": [
       "     customer          st customer lifetime value gender   income  \\\n",
       "0     RB50392  Washington                     NaN    NaN      0.0   \n",
       "1     QZ44356     Arizona              697953.59%      F      0.0   \n",
       "2     AI49188      Nevada             1288743.17%      F  48767.0   \n",
       "3     WW63253  California              764586.18%      M      0.0   \n",
       "4     GA49547  Washington              536307.65%      M  36357.0   \n",
       "...       ...         ...                     ...    ...      ...   \n",
       "7065  LA72316  California             23405.98798      M  71941.0   \n",
       "7066  PK87824  California             3096.511217      F  21604.0   \n",
       "7067  TD14365  California             8163.890428      M      0.0   \n",
       "7068  UP19263  California             7524.442436      M  21941.0   \n",
       "7069  Y167826  California             2611.836866      M      0.0   \n",
       "\n",
       "      monthly premium auto     policy type  total claim amount  vehicle class  \n",
       "0                   1000.0   Personal Auto            2.704934  Four-Door Car  \n",
       "1                     94.0   Personal Auto         1131.464935  Four-Door Car  \n",
       "2                    108.0   Personal Auto          566.472247   Two-Door Car  \n",
       "3                    106.0  Corporate Auto          529.881344            SUV  \n",
       "4                     68.0   Personal Auto           17.269323  Four-Door Car  \n",
       "...                    ...             ...                 ...            ...  \n",
       "7065                  73.0   Personal Auto          198.234764  Four-Door Car  \n",
       "7066                  79.0  Corporate Auto          379.200000  Four-Door Car  \n",
       "7067                  85.0  Corporate Auto          790.784983  Four-Door Car  \n",
       "7068                  96.0   Personal Auto          691.200000  Four-Door Car  \n",
       "7069                  77.0  Corporate Auto          369.600000   Two-Door Car  \n",
       "\n",
       "[12074 rows x 9 columns]"
      ]
     },
     "execution_count": 71,
     "metadata": {},
     "output_type": "execute_result"
    }
   ],
   "source": [
    "lab3data"
   ]
  },
  {
   "cell_type": "code",
   "execution_count": 99,
   "id": "6c33d3b2-3ae6-4599-b717-878ab2391aff",
   "metadata": {},
   "outputs": [
    {
     "data": {
      "text/plain": [
       "0                NaN\n",
       "1        6979.535900\n",
       "2       12887.431700\n",
       "3        7645.861800\n",
       "4        5363.076500\n",
       "            ...     \n",
       "7065      234.059880\n",
       "7066       30.965112\n",
       "7067       81.638904\n",
       "7068       75.244424\n",
       "7069       26.118369\n",
       "Name: customer lifetime value, Length: 12074, dtype: float64"
      ]
     },
     "execution_count": 99,
     "metadata": {},
     "output_type": "execute_result"
    }
   ],
   "source": [
    "lab3data['customer lifetime value'].astype(str).str.replace('%','').astype(float) / 100 #for loop if is... do this, if not, do this..."
   ]
  },
  {
   "cell_type": "code",
   "execution_count": 83,
   "id": "c7979222-8641-4605-89b9-03ab53d81b0b",
   "metadata": {},
   "outputs": [
    {
     "data": {
      "text/html": [
       "<div>\n",
       "<style scoped>\n",
       "    .dataframe tbody tr th:only-of-type {\n",
       "        vertical-align: middle;\n",
       "    }\n",
       "\n",
       "    .dataframe tbody tr th {\n",
       "        vertical-align: top;\n",
       "    }\n",
       "\n",
       "    .dataframe thead th {\n",
       "        text-align: right;\n",
       "    }\n",
       "</style>\n",
       "<table border=\"1\" class=\"dataframe\">\n",
       "  <thead>\n",
       "    <tr style=\"text-align: right;\">\n",
       "      <th></th>\n",
       "      <th>customer</th>\n",
       "      <th>st</th>\n",
       "      <th>customer lifetime value</th>\n",
       "      <th>gender</th>\n",
       "      <th>income</th>\n",
       "      <th>monthly premium auto</th>\n",
       "      <th>policy type</th>\n",
       "      <th>total claim amount</th>\n",
       "      <th>vehicle class</th>\n",
       "    </tr>\n",
       "  </thead>\n",
       "  <tbody>\n",
       "    <tr>\n",
       "      <th>0</th>\n",
       "      <td>RB50392</td>\n",
       "      <td>Washington</td>\n",
       "      <td>NaN</td>\n",
       "      <td>NaN</td>\n",
       "      <td>0.0</td>\n",
       "      <td>1000.0</td>\n",
       "      <td>Personal Auto</td>\n",
       "      <td>2.704934</td>\n",
       "      <td>Four-Door Car</td>\n",
       "    </tr>\n",
       "    <tr>\n",
       "      <th>1</th>\n",
       "      <td>QZ44356</td>\n",
       "      <td>Arizona</td>\n",
       "      <td>697953.59%</td>\n",
       "      <td>F</td>\n",
       "      <td>0.0</td>\n",
       "      <td>94.0</td>\n",
       "      <td>Personal Auto</td>\n",
       "      <td>1131.464935</td>\n",
       "      <td>Four-Door Car</td>\n",
       "    </tr>\n",
       "    <tr>\n",
       "      <th>2</th>\n",
       "      <td>AI49188</td>\n",
       "      <td>Nevada</td>\n",
       "      <td>1288743.17%</td>\n",
       "      <td>F</td>\n",
       "      <td>48767.0</td>\n",
       "      <td>108.0</td>\n",
       "      <td>Personal Auto</td>\n",
       "      <td>566.472247</td>\n",
       "      <td>Two-Door Car</td>\n",
       "    </tr>\n",
       "    <tr>\n",
       "      <th>3</th>\n",
       "      <td>WW63253</td>\n",
       "      <td>California</td>\n",
       "      <td>764586.18%</td>\n",
       "      <td>M</td>\n",
       "      <td>0.0</td>\n",
       "      <td>106.0</td>\n",
       "      <td>Corporate Auto</td>\n",
       "      <td>529.881344</td>\n",
       "      <td>SUV</td>\n",
       "    </tr>\n",
       "    <tr>\n",
       "      <th>4</th>\n",
       "      <td>GA49547</td>\n",
       "      <td>Washington</td>\n",
       "      <td>536307.65%</td>\n",
       "      <td>M</td>\n",
       "      <td>36357.0</td>\n",
       "      <td>68.0</td>\n",
       "      <td>Personal Auto</td>\n",
       "      <td>17.269323</td>\n",
       "      <td>Four-Door Car</td>\n",
       "    </tr>\n",
       "    <tr>\n",
       "      <th>...</th>\n",
       "      <td>...</td>\n",
       "      <td>...</td>\n",
       "      <td>...</td>\n",
       "      <td>...</td>\n",
       "      <td>...</td>\n",
       "      <td>...</td>\n",
       "      <td>...</td>\n",
       "      <td>...</td>\n",
       "      <td>...</td>\n",
       "    </tr>\n",
       "    <tr>\n",
       "      <th>7065</th>\n",
       "      <td>LA72316</td>\n",
       "      <td>California</td>\n",
       "      <td>23405.98798</td>\n",
       "      <td>M</td>\n",
       "      <td>71941.0</td>\n",
       "      <td>73.0</td>\n",
       "      <td>Personal Auto</td>\n",
       "      <td>198.234764</td>\n",
       "      <td>Four-Door Car</td>\n",
       "    </tr>\n",
       "    <tr>\n",
       "      <th>7066</th>\n",
       "      <td>PK87824</td>\n",
       "      <td>California</td>\n",
       "      <td>3096.511217</td>\n",
       "      <td>F</td>\n",
       "      <td>21604.0</td>\n",
       "      <td>79.0</td>\n",
       "      <td>Corporate Auto</td>\n",
       "      <td>379.200000</td>\n",
       "      <td>Four-Door Car</td>\n",
       "    </tr>\n",
       "    <tr>\n",
       "      <th>7067</th>\n",
       "      <td>TD14365</td>\n",
       "      <td>California</td>\n",
       "      <td>8163.890428</td>\n",
       "      <td>M</td>\n",
       "      <td>0.0</td>\n",
       "      <td>85.0</td>\n",
       "      <td>Corporate Auto</td>\n",
       "      <td>790.784983</td>\n",
       "      <td>Four-Door Car</td>\n",
       "    </tr>\n",
       "    <tr>\n",
       "      <th>7068</th>\n",
       "      <td>UP19263</td>\n",
       "      <td>California</td>\n",
       "      <td>7524.442436</td>\n",
       "      <td>M</td>\n",
       "      <td>21941.0</td>\n",
       "      <td>96.0</td>\n",
       "      <td>Personal Auto</td>\n",
       "      <td>691.200000</td>\n",
       "      <td>Four-Door Car</td>\n",
       "    </tr>\n",
       "    <tr>\n",
       "      <th>7069</th>\n",
       "      <td>Y167826</td>\n",
       "      <td>California</td>\n",
       "      <td>2611.836866</td>\n",
       "      <td>M</td>\n",
       "      <td>0.0</td>\n",
       "      <td>77.0</td>\n",
       "      <td>Corporate Auto</td>\n",
       "      <td>369.600000</td>\n",
       "      <td>Two-Door Car</td>\n",
       "    </tr>\n",
       "  </tbody>\n",
       "</table>\n",
       "<p>9135 rows × 9 columns</p>\n",
       "</div>"
      ],
      "text/plain": [
       "     customer          st customer lifetime value gender   income  \\\n",
       "0     RB50392  Washington                     NaN    NaN      0.0   \n",
       "1     QZ44356     Arizona              697953.59%      F      0.0   \n",
       "2     AI49188      Nevada             1288743.17%      F  48767.0   \n",
       "3     WW63253  California              764586.18%      M      0.0   \n",
       "4     GA49547  Washington              536307.65%      M  36357.0   \n",
       "...       ...         ...                     ...    ...      ...   \n",
       "7065  LA72316  California             23405.98798      M  71941.0   \n",
       "7066  PK87824  California             3096.511217      F  21604.0   \n",
       "7067  TD14365  California             8163.890428      M      0.0   \n",
       "7068  UP19263  California             7524.442436      M  21941.0   \n",
       "7069  Y167826  California             2611.836866      M      0.0   \n",
       "\n",
       "      monthly premium auto     policy type  total claim amount  vehicle class  \n",
       "0                   1000.0   Personal Auto            2.704934  Four-Door Car  \n",
       "1                     94.0   Personal Auto         1131.464935  Four-Door Car  \n",
       "2                    108.0   Personal Auto          566.472247   Two-Door Car  \n",
       "3                    106.0  Corporate Auto          529.881344            SUV  \n",
       "4                     68.0   Personal Auto           17.269323  Four-Door Car  \n",
       "...                    ...             ...                 ...            ...  \n",
       "7065                  73.0   Personal Auto          198.234764  Four-Door Car  \n",
       "7066                  79.0  Corporate Auto          379.200000  Four-Door Car  \n",
       "7067                  85.0  Corporate Auto          790.784983  Four-Door Car  \n",
       "7068                  96.0   Personal Auto          691.200000  Four-Door Car  \n",
       "7069                  77.0  Corporate Auto          369.600000   Two-Door Car  \n",
       "\n",
       "[9135 rows x 9 columns]"
      ]
     },
     "execution_count": 83,
     "metadata": {},
     "output_type": "execute_result"
    }
   ],
   "source": [
    "lab3data.drop_duplicates()"
   ]
  },
  {
   "cell_type": "code",
   "execution_count": 85,
   "id": "f76809db-82b4-4c46-9dd5-9b92cf7ea0e6",
   "metadata": {},
   "outputs": [],
   "source": [
    "filtered = lab3data[lab3data[\"income\"]<=0]"
   ]
  },
  {
   "cell_type": "code",
   "execution_count": 86,
   "id": "42d0d681-9eff-42ad-8797-7608f6c908cc",
   "metadata": {},
   "outputs": [
    {
     "data": {
      "text/html": [
       "<div>\n",
       "<style scoped>\n",
       "    .dataframe tbody tr th:only-of-type {\n",
       "        vertical-align: middle;\n",
       "    }\n",
       "\n",
       "    .dataframe tbody tr th {\n",
       "        vertical-align: top;\n",
       "    }\n",
       "\n",
       "    .dataframe thead th {\n",
       "        text-align: right;\n",
       "    }\n",
       "</style>\n",
       "<table border=\"1\" class=\"dataframe\">\n",
       "  <thead>\n",
       "    <tr style=\"text-align: right;\">\n",
       "      <th></th>\n",
       "      <th>customer</th>\n",
       "      <th>st</th>\n",
       "      <th>customer lifetime value</th>\n",
       "      <th>gender</th>\n",
       "      <th>income</th>\n",
       "      <th>monthly premium auto</th>\n",
       "      <th>policy type</th>\n",
       "      <th>total claim amount</th>\n",
       "      <th>vehicle class</th>\n",
       "    </tr>\n",
       "  </thead>\n",
       "  <tbody>\n",
       "    <tr>\n",
       "      <th>0</th>\n",
       "      <td>RB50392</td>\n",
       "      <td>Washington</td>\n",
       "      <td>NaN</td>\n",
       "      <td>NaN</td>\n",
       "      <td>0.0</td>\n",
       "      <td>1000.0</td>\n",
       "      <td>Personal Auto</td>\n",
       "      <td>2.704934</td>\n",
       "      <td>Four-Door Car</td>\n",
       "    </tr>\n",
       "    <tr>\n",
       "      <th>1</th>\n",
       "      <td>QZ44356</td>\n",
       "      <td>Arizona</td>\n",
       "      <td>697953.59%</td>\n",
       "      <td>F</td>\n",
       "      <td>0.0</td>\n",
       "      <td>94.0</td>\n",
       "      <td>Personal Auto</td>\n",
       "      <td>1131.464935</td>\n",
       "      <td>Four-Door Car</td>\n",
       "    </tr>\n",
       "    <tr>\n",
       "      <th>3</th>\n",
       "      <td>WW63253</td>\n",
       "      <td>California</td>\n",
       "      <td>764586.18%</td>\n",
       "      <td>M</td>\n",
       "      <td>0.0</td>\n",
       "      <td>106.0</td>\n",
       "      <td>Corporate Auto</td>\n",
       "      <td>529.881344</td>\n",
       "      <td>SUV</td>\n",
       "    </tr>\n",
       "    <tr>\n",
       "      <th>7</th>\n",
       "      <td>CF85061</td>\n",
       "      <td>Arizona</td>\n",
       "      <td>721610.03%</td>\n",
       "      <td>M</td>\n",
       "      <td>0.0</td>\n",
       "      <td>101.0</td>\n",
       "      <td>Corporate Auto</td>\n",
       "      <td>363.029680</td>\n",
       "      <td>Four-Door Car</td>\n",
       "    </tr>\n",
       "    <tr>\n",
       "      <th>10</th>\n",
       "      <td>SX51350</td>\n",
       "      <td>California</td>\n",
       "      <td>473899.20%</td>\n",
       "      <td>M</td>\n",
       "      <td>0.0</td>\n",
       "      <td>67.0</td>\n",
       "      <td>Personal Auto</td>\n",
       "      <td>482.400000</td>\n",
       "      <td>Four-Door Car</td>\n",
       "    </tr>\n",
       "    <tr>\n",
       "      <th>...</th>\n",
       "      <td>...</td>\n",
       "      <td>...</td>\n",
       "      <td>...</td>\n",
       "      <td>...</td>\n",
       "      <td>...</td>\n",
       "      <td>...</td>\n",
       "      <td>...</td>\n",
       "      <td>...</td>\n",
       "      <td>...</td>\n",
       "    </tr>\n",
       "    <tr>\n",
       "      <th>7059</th>\n",
       "      <td>WZ45103</td>\n",
       "      <td>California</td>\n",
       "      <td>5678.050167</td>\n",
       "      <td>F</td>\n",
       "      <td>0.0</td>\n",
       "      <td>76.0</td>\n",
       "      <td>Personal Auto</td>\n",
       "      <td>364.800000</td>\n",
       "      <td>Four-Door Car</td>\n",
       "    </tr>\n",
       "    <tr>\n",
       "      <th>7061</th>\n",
       "      <td>RX91025</td>\n",
       "      <td>California</td>\n",
       "      <td>19872.262</td>\n",
       "      <td>M</td>\n",
       "      <td>0.0</td>\n",
       "      <td>185.0</td>\n",
       "      <td>Personal Auto</td>\n",
       "      <td>1950.725547</td>\n",
       "      <td>SUV</td>\n",
       "    </tr>\n",
       "    <tr>\n",
       "      <th>7062</th>\n",
       "      <td>AC13887</td>\n",
       "      <td>California</td>\n",
       "      <td>4628.995325</td>\n",
       "      <td>M</td>\n",
       "      <td>0.0</td>\n",
       "      <td>67.0</td>\n",
       "      <td>Corporate Auto</td>\n",
       "      <td>482.400000</td>\n",
       "      <td>Two-Door Car</td>\n",
       "    </tr>\n",
       "    <tr>\n",
       "      <th>7067</th>\n",
       "      <td>TD14365</td>\n",
       "      <td>California</td>\n",
       "      <td>8163.890428</td>\n",
       "      <td>M</td>\n",
       "      <td>0.0</td>\n",
       "      <td>85.0</td>\n",
       "      <td>Corporate Auto</td>\n",
       "      <td>790.784983</td>\n",
       "      <td>Four-Door Car</td>\n",
       "    </tr>\n",
       "    <tr>\n",
       "      <th>7069</th>\n",
       "      <td>Y167826</td>\n",
       "      <td>California</td>\n",
       "      <td>2611.836866</td>\n",
       "      <td>M</td>\n",
       "      <td>0.0</td>\n",
       "      <td>77.0</td>\n",
       "      <td>Corporate Auto</td>\n",
       "      <td>369.600000</td>\n",
       "      <td>Two-Door Car</td>\n",
       "    </tr>\n",
       "  </tbody>\n",
       "</table>\n",
       "<p>2294 rows × 9 columns</p>\n",
       "</div>"
      ],
      "text/plain": [
       "     customer          st customer lifetime value gender  income  \\\n",
       "0     RB50392  Washington                     NaN    NaN     0.0   \n",
       "1     QZ44356     Arizona              697953.59%      F     0.0   \n",
       "3     WW63253  California              764586.18%      M     0.0   \n",
       "7     CF85061     Arizona              721610.03%      M     0.0   \n",
       "10    SX51350  California              473899.20%      M     0.0   \n",
       "...       ...         ...                     ...    ...     ...   \n",
       "7059  WZ45103  California             5678.050167      F     0.0   \n",
       "7061  RX91025  California               19872.262      M     0.0   \n",
       "7062  AC13887  California             4628.995325      M     0.0   \n",
       "7067  TD14365  California             8163.890428      M     0.0   \n",
       "7069  Y167826  California             2611.836866      M     0.0   \n",
       "\n",
       "      monthly premium auto     policy type  total claim amount  vehicle class  \n",
       "0                   1000.0   Personal Auto            2.704934  Four-Door Car  \n",
       "1                     94.0   Personal Auto         1131.464935  Four-Door Car  \n",
       "3                    106.0  Corporate Auto          529.881344            SUV  \n",
       "7                    101.0  Corporate Auto          363.029680  Four-Door Car  \n",
       "10                    67.0   Personal Auto          482.400000  Four-Door Car  \n",
       "...                    ...             ...                 ...            ...  \n",
       "7059                  76.0   Personal Auto          364.800000  Four-Door Car  \n",
       "7061                 185.0   Personal Auto         1950.725547            SUV  \n",
       "7062                  67.0  Corporate Auto          482.400000   Two-Door Car  \n",
       "7067                  85.0  Corporate Auto          790.784983  Four-Door Car  \n",
       "7069                  77.0  Corporate Auto          369.600000   Two-Door Car  \n",
       "\n",
       "[2294 rows x 9 columns]"
      ]
     },
     "execution_count": 86,
     "metadata": {},
     "output_type": "execute_result"
    }
   ],
   "source": [
    "filtered"
   ]
  },
  {
   "cell_type": "code",
   "execution_count": null,
   "id": "430acc2d-7630-4a73-b165-64246820efde",
   "metadata": {},
   "outputs": [],
   "source": []
  },
  {
   "cell_type": "code",
   "execution_count": null,
   "id": "5450cf71-6032-48f2-8057-04f3090fb8b9",
   "metadata": {},
   "outputs": [],
   "source": []
  }
 ],
 "metadata": {
  "kernelspec": {
   "display_name": "Python 3 (ipykernel)",
   "language": "python",
   "name": "python3"
  },
  "language_info": {
   "codemirror_mode": {
    "name": "ipython",
    "version": 3
   },
   "file_extension": ".py",
   "mimetype": "text/x-python",
   "name": "python",
   "nbconvert_exporter": "python",
   "pygments_lexer": "ipython3",
   "version": "3.9.13"
  }
 },
 "nbformat": 4,
 "nbformat_minor": 5
}
